{
 "cells": [
  {
   "cell_type": "markdown",
   "metadata": {},
   "source": [
    "# LMS distortion\n",
    "\n"
   ]
  },
  {
   "cell_type": "markdown",
   "metadata": {},
   "source": [
    "The following is a summary of the steps that were taken to apply the CRIRES+ data reduction to simulation the METIS LMS IFU.\n",
    "* ScopeSim runs\n",
    "* Insert data into CRIRES frames\n",
    "* Order tracing\n",
    "* Tilt determination\n",
    "* Extracting 1D spectra\n",
    "* Assigning Wavelength and spatial scale to pixels in 2D spectra"
   ]
  },
  {
   "cell_type": "markdown",
   "metadata": {},
   "source": [
    "## ScopeSim\n",
    "As of april 2022, when these simulations were carried out, the release-version of the simulator did not support the IFU mode of METIS. Therefore a development version of the LMS-branch was istalled, after instructions from the team. The mode was set such that the \n",
    "The scipt that creates the frame with the sky spectrum is called `lms_sky.py` and does very little besides calling the simulator with default arguments, and istructing it to set the central wavelength of the spectrograph to arbitrary 3.55micon.\n",
    "In addition, it retrieves the wavelength scale from one of the slices, in order to later ingest it into the CRIRES-pipeline."
   ]
  },
  {
   "cell_type": "markdown",
   "metadata": {},
   "source": [
    "## CRIRES DRS\n",
    "The upgraded CRIRES is a cross-dispersed echelle slit-spectrograph for the near-infrared bands YJHKLM. It uses three of the same HAWAII2RG detectors that the METIS will use four of. The fact that CRIRES images several spectral orders while METIS does slices of spatial regions, is not no hindrance to applying the same methods for finding the location and shape of each order/slice in the detector grid, and to determine the orientation of the \"slit\".\n",
    "\n",
    "The CRIRES DRS is a standard ESO-pipeline that was developped from scratch for the upgraded instrument and is in operation since late 2021. It can be installed from the usual sources for ESO pipelines on their website, no particular version is needed for this exercise since the basic algorithms have not changed.\n",
    "\n",
    "ScopeSim produces frames for all four of the LMS detectors. Simply ignoring the fourth, the pixel values were copied into a raw frame CRIRES, thus preserving its headers and replacing the data."
   ]
  },
  {
   "cell_type": "markdown",
   "metadata": {},
   "source": [
    "## Order tracing\n",
    "By \"trace\" we mean the polynomial in detector coordinates (x,y) that describes the mid-line of the spectral order. This is done by smoothing and thresholding the sky frame (which has enough continuum) in order to distinguish in-order from inter-order pixels. Continuous clusters of in-order pixels are then fitted with a second-degree polynomial.\n",
    "The command executed was\n",
    "\n",
    "    # esorex cr2res_util_trace trace_sky.sof\n",
    "    \n",
    ", where `trace_sky.sof` contains only one line, pretending the sky frame is a FLAT (which is what is usually used for tracing)\n",
    "\n",
    "    CIRES_sky.fits FLAT\n",
    "    \n",
    "The output file is `CIRES_sky_tw.fits` which is a table that now has the traces for each slice."
   ]
  },
  {
   "cell_type": "markdown",
   "metadata": {},
   "source": [
    "## Slit tilt\n",
    "Next up is measuring the "
   ]
  },
  {
   "cell_type": "code",
   "execution_count": 20,
   "metadata": {},
   "outputs": [],
   "source": [
    "from pylab import *\n",
    "from astropy.io.fits import open as fo"
   ]
  },
  {
   "cell_type": "code",
   "execution_count": 21,
   "metadata": {},
   "outputs": [
    {
     "data": {
      "text/plain": [
       "array([[-1.45030918e-02,  4.97644175e-06, -8.81093015e-10],\n",
       "       [-1.71465266e-02,  1.19526702e-05, -4.11230539e-09],\n",
       "       [-1.60470680e-02,  9.62834066e-06, -2.46179182e-09],\n",
       "       [-1.56843290e-02,  1.04739179e-05, -3.39557250e-09],\n",
       "       [-9.89049691e-03, -7.80064422e-07,  1.55907143e-09],\n",
       "       [-1.37041189e-02,  7.36109573e-06, -1.76092183e-09],\n",
       "       [-1.21335419e-02,  3.73431498e-06,  3.62338925e-10],\n",
       "       [-9.88651568e-03,  1.90595104e-06,  9.70922842e-10],\n",
       "       [-1.25626738e-02,  9.42000943e-06, -3.06478176e-09],\n",
       "       [-1.23701034e-02,  4.81279417e-06,  6.75878571e-10],\n",
       "       [-1.30267035e-02,  9.46268944e-06, -2.61068479e-09],\n",
       "       [-9.47728454e-03,  3.20871517e-06,  1.27630431e-09],\n",
       "       [-1.29999200e-02,  1.02179873e-05, -1.89150864e-09],\n",
       "       [-1.04358752e-02,  2.52729614e-06,  1.30881039e-09]])"
      ]
     },
     "execution_count": 21,
     "metadata": {},
     "output_type": "execute_result"
    }
   ],
   "source": [
    "fo('CIRES_sky_tw_tw.fits')[1].data['SlitPolyB'] "
   ]
  },
  {
   "cell_type": "markdown",
   "metadata": {},
   "source": [
    "When we evaluate one of the polynomials at the detector edges and center, we find that the slit angle varies between 0.5 and 0.9 degrees."
   ]
  },
  {
   "cell_type": "code",
   "execution_count": 22,
   "metadata": {},
   "outputs": [
    {
     "data": {
      "text/plain": [
       "array([-0.01567386, -0.00851955, -0.00847581])"
      ]
     },
     "execution_count": 22,
     "metadata": {},
     "output_type": "execute_result"
    }
   ],
   "source": [
    "dx=polyval([-1.56843290e-02,  1.04739179e-05, -3.39557250e-09][::-1],[1,1024,2048]) \n",
    "dx"
   ]
  },
  {
   "cell_type": "code",
   "execution_count": 23,
   "metadata": {},
   "outputs": [
    {
     "data": {
      "text/plain": [
       "array([-0.89797241, -0.48812261, -0.48561642])"
      ]
     },
     "execution_count": 23,
     "metadata": {},
     "output_type": "execute_result"
    }
   ],
   "source": [
    "degrees(arctan(dx)) # Tilt angles"
   ]
  },
  {
   "cell_type": "code",
   "execution_count": 24,
   "metadata": {},
   "outputs": [
    {
     "data": {
      "text/plain": [
       "array([-1.25390868, -0.68156423, -0.67806468])"
      ]
     },
     "execution_count": 24,
     "metadata": {},
     "output_type": "execute_result"
    }
   ],
   "source": [
    "dx*80 # pixel difference between top and bottom of a slice, ~80 high"
   ]
  }
 ],
 "metadata": {
  "kernelspec": {
   "display_name": "Python 3",
   "language": "python",
   "name": "python3"
  },
  "language_info": {
   "codemirror_mode": {
    "name": "ipython",
    "version": 3
   },
   "file_extension": ".py",
   "mimetype": "text/x-python",
   "name": "python",
   "nbconvert_exporter": "python",
   "pygments_lexer": "ipython3",
   "version": "3.8.10"
  }
 },
 "nbformat": 4,
 "nbformat_minor": 4
}
